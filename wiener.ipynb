{
 "cells": [
  {
   "cell_type": "markdown",
   "metadata": {},
   "source": [
    "# GPU-Accelerated Wiener & DDM Animations\n",
    "This notebook runs real-time animated simulations using PyTorch (CUDA/ROCm) from the project scaffold.\n",
    "\n",
    "- `%matplotlib notebook` for interactive plots\n",
    "- Edit code to choose animation type (`wiener` or `ddm`)"
   ]
  },
  {
   "cell_type": "code",
   "execution_count": null,
   "metadata": {},
   "outputs": [],
   "source": [
    "%matplotlib notebook\n",
    "import sys, os\n",
    "sys.path.append(os.path.join(os.getcwd(), 'src'))"
   ]
  },
  {
   "cell_type": "code",
   "execution_count": null,
   "metadata": {},
   "outputs": [],
   "source": [
    "# Run Wiener Process animation\n",
    "from wiener_process import run_wiener_animation\n",
    "run_wiener_animation()"
   ]
  },
  {
   "cell_type": "code",
   "execution_count": null,
   "metadata": {},
   "outputs": [],
   "source": [
    "# Run Drift Diffusion Model animation\n",
    "# Uncomment to run DDM simulation instead\n",
    "from ddm_simulation import run_ddm_animation\n",
    "# run_ddm_animation()"
   ]
  }
 ],
 "metadata": {
  "kernelspec": {
   "display_name": "Python 3",
   "language": "python",
   "name": "python3"
  },
  "language_info": {
   "name": "python",
   "version": "3.10"
  }
 },
 "nbformat": 4,
 "nbformat_minor": 2
}
